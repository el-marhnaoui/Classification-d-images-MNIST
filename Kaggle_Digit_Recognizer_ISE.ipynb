{
 "cells": [
  {
   "cell_type": "code",
   "execution_count": 5,
   "metadata": {},
   "outputs": [],
   "source": [
    "## 1. Préparation des données\n",
    "    ## 1.1 Charger les données du train\n",
    "    ## 1.2 Normalisation\n",
    "    ## 1.4 Remodeler\n",
    "    ## 1.5 Encodage des étiquettes\n",
    "    \n",
    "## 2. CNN\n",
    "    ## 2.1 Définir le modèle\n",
    "    ## 2.2 Définir l'optimiseur et le recuit\n",
    "## 3. Évaluez le modèle\n",
    "    ## 3.1 Courbes de formation et de validation\n",
    "    ## 3.2 Matrice de confusion\n",
    "## 4. Prédiction et soumission\n",
    "    ## 4.1 Données de test de charge\n",
    "    ## 4.1 Prédire et soumettre les résultats"
   ]
  },
  {
   "cell_type": "code",
   "execution_count": 370,
   "metadata": {},
   "outputs": [],
   "source": [
    "import numpy as np\n",
    "import matplotlib.pyplot as plt\n",
    "import pandas as pd\n",
    "from keras.datasets import mnist\n",
    "from keras import models\n",
    "from keras import layers\n",
    "from keras import optimizers\n",
    "from keras.utils import to_categorical\n",
    "import seaborn as sns\n",
    "%matplotlib inline\n",
    "\n"
   ]
  },
  {
   "cell_type": "markdown",
   "metadata": {},
   "source": []
  },
  {
   "cell_type": "code",
   "execution_count": 371,
   "metadata": {},
   "outputs": [],
   "source": [
    "data_train = pd.read_csv('train.csv')\n",
    "data_test= pd.read_csv('test.csv')\n",
    "sample_submission = pd.read_csv('submission.csv')"
   ]
  },
  {
   "cell_type": "code",
   "execution_count": 372,
   "metadata": {},
   "outputs": [
    {
     "data": {
      "text/plain": [
       "(42000, 785)"
      ]
     },
     "execution_count": 372,
     "metadata": {},
     "output_type": "execute_result"
    }
   ],
   "source": [
    "data_train.head()\n",
    "data_train.shape"
   ]
  },
  {
   "cell_type": "code",
   "execution_count": 373,
   "metadata": {},
   "outputs": [],
   "source": [
    "train_labels=data_train['label']\n",
    "\n",
    "train_images=data_train.drop('label',axis=1)\n",
    "train_images=train_images/255.0\n",
    "\n",
    "X_data_test=data_test/255.0\n",
    "X_data_test = X_data_test.values.reshape(X_data_test.shape[0], 28, 28, 1)\n"
   ]
  },
  {
   "cell_type": "code",
   "execution_count": 374,
   "metadata": {},
   "outputs": [
    {
     "data": {
      "text/plain": [
       "(27000, 28, 28, 1)"
      ]
     },
     "execution_count": 374,
     "metadata": {},
     "output_type": "execute_result"
    }
   ],
   "source": [
    "X_train=train_images[:27000]\n",
    "X_train = X_train.values.reshape(X_train.shape[0], 28, 28, 1)\n",
    "\n",
    "Y_train=train_labels[:27000]\n",
    "Y_train = to_categorical(Y_train, 10)\n",
    "\n",
    "\n",
    "Y_valid=train_labels[27000:]\n",
    "Y_valid = to_categorical(Y_valid, 10)\n",
    "\n",
    "\n",
    "X_valid=train_images[27000:]\n",
    "X_valid = X_valid.values.reshape(X_valid.shape[0], 28, 28, 1)\n",
    "\n",
    "\n",
    "X_train.shape\n"
   ]
  },
  {
   "cell_type": "code",
   "execution_count": 480,
   "metadata": {},
   "outputs": [],
   "source": [
    "from keras.layers.convolutional import Conv2D,MaxPooling2D\n",
    "from keras.layers import Dense, Activation, Flatten\n",
    "import numpy \n",
    "seed = 8\n",
    "numpy.random.seed(seed)\n",
    "\n",
    "model=models.Sequential()\n",
    "\n",
    "model.add(Conv2D(32, (3, 3), padding=\"same\", activation=\"relu\", input_shape = (28,28,1)))\n",
    "model.add(MaxPooling2D(pool_size=(2, 2)))\n",
    "model.add(layers.Dropout(0.5))\n",
    "...\n",
    "model.add(Conv2D(64, (3, 3), padding=\"same\", activation=\"relu\"))\n",
    "model.add(MaxPooling2D(pool_size=(2, 2)))\n",
    "model.add(layers.Dropout(0.5))\n",
    "...\n",
    "model.add(Conv2D(64, (3, 3), padding=\"same\", activation=\"softmax\"))\n",
    "model.add(MaxPooling2D(pool_size=(2, 2)))\n",
    "model.add(layers.Dropout(0.5))\n",
    "...\n",
    "model.add(Flatten())\n",
    "...\n",
    "model.add(layers.Dense(64, activation = 'relu'))\n",
    "model.add(layers.Dropout(0.5))\n",
    "model.add(layers.Dense(10, activation = 'softmax'))"
   ]
  },
  {
   "cell_type": "code",
   "execution_count": 481,
   "metadata": {},
   "outputs": [],
   "source": [
    "optim = optimizers.Adam(lr=0.001, epsilon=0.0000001, decay=0.0)\n",
    "model.compile(optimizer=optim, loss='categorical_crossentropy', metrics=['accuracy'])"
   ]
  },
  {
   "cell_type": "code",
   "execution_count": 482,
   "metadata": {},
   "outputs": [],
   "source": [
    "from keras.preprocessing.image import ImageDataGenerator\n",
    "from keras.callbacks import ReduceLROnPlateau\n",
    "# With data augmentation to prevent overfitting (accuracy 0.99286)\n",
    "learning_rate_reduction = ReduceLROnPlateau(monitor='val_acc', \n",
    "                                            patience=3, \n",
    "                                            verbose=1, \n",
    "                                            factor=0.5, \n",
    "                                            min_lr=0.00001)\n",
    "datagen = ImageDataGenerator(\n",
    "        featurewise_center=False,  # set input mean to 0 over the dataset\n",
    "        samplewise_center=False,  # set each sample mean to 0\n",
    "        featurewise_std_normalization=False,  # divide inputs by std of the dataset\n",
    "        samplewise_std_normalization=False,  # divide each input by its std\n",
    "        zca_whitening=False,  # apply ZCA whitening\n",
    "        rotation_range=10,  # randomly rotate images in the range (degrees, 0 to 180)\n",
    "        zoom_range = 0.1, # Randomly zoom image \n",
    "        width_shift_range=0.1,  # randomly shift images horizontally (fraction of total width)\n",
    "        height_shift_range=0.1,  # randomly shift images vertically (fraction of total height)\n",
    "        horizontal_flip=False,  # randomly flip images\n",
    "        vertical_flip=False)  # randomly flip images\n"
   ]
  },
  {
   "cell_type": "code",
   "execution_count": 483,
   "metadata": {},
   "outputs": [],
   "source": [
    "datagen.fit(X_train)"
   ]
  },
  {
   "cell_type": "code",
   "execution_count": 484,
   "metadata": {},
   "outputs": [
    {
     "name": "stdout",
     "output_type": "stream",
     "text": [
      "Epoch 1/100\n",
      " - 36s - loss: 1.7688 - acc: 0.3815 - val_loss: 0.6188 - val_acc: 0.8657\n",
      "Epoch 2/100\n",
      " - 33s - loss: 0.9391 - acc: 0.6941 - val_loss: 0.2616 - val_acc: 0.9347\n",
      "Epoch 3/100\n",
      " - 33s - loss: 0.6539 - acc: 0.7936 - val_loss: 0.1714 - val_acc: 0.9530\n",
      "Epoch 4/100\n",
      " - 33s - loss: 0.5323 - acc: 0.8339 - val_loss: 0.1398 - val_acc: 0.9588\n",
      "Epoch 5/100\n",
      " - 33s - loss: 0.4593 - acc: 0.8580 - val_loss: 0.1105 - val_acc: 0.9665\n",
      "Epoch 6/100\n",
      " - 33s - loss: 0.4110 - acc: 0.8773 - val_loss: 0.0941 - val_acc: 0.9713\n",
      "Epoch 7/100\n",
      " - 33s - loss: 0.3710 - acc: 0.8882 - val_loss: 0.0841 - val_acc: 0.9752\n",
      "Epoch 8/100\n",
      " - 33s - loss: 0.3464 - acc: 0.8976 - val_loss: 0.0789 - val_acc: 0.9764\n",
      "Epoch 9/100\n",
      " - 33s - loss: 0.3205 - acc: 0.9050 - val_loss: 0.0803 - val_acc: 0.9749\n",
      "Epoch 10/100\n",
      " - 33s - loss: 0.3119 - acc: 0.9083 - val_loss: 0.0684 - val_acc: 0.9790\n",
      "Epoch 11/100\n",
      " - 33s - loss: 0.2938 - acc: 0.9142 - val_loss: 0.0702 - val_acc: 0.9787\n",
      "Epoch 12/100\n",
      " - 33s - loss: 0.2833 - acc: 0.9174 - val_loss: 0.0623 - val_acc: 0.9813\n",
      "Epoch 13/100\n",
      " - 33s - loss: 0.2751 - acc: 0.9225 - val_loss: 0.0603 - val_acc: 0.9816\n",
      "Epoch 14/100\n",
      " - 33s - loss: 0.2597 - acc: 0.9261 - val_loss: 0.0568 - val_acc: 0.9825\n",
      "Epoch 15/100\n",
      " - 33s - loss: 0.2595 - acc: 0.9259 - val_loss: 0.0556 - val_acc: 0.9832\n",
      "Epoch 16/100\n",
      " - 33s - loss: 0.2609 - acc: 0.9264 - val_loss: 0.0550 - val_acc: 0.9836\n",
      "Epoch 17/100\n",
      " - 33s - loss: 0.2461 - acc: 0.9293 - val_loss: 0.0544 - val_acc: 0.9827\n",
      "Epoch 18/100\n",
      " - 32s - loss: 0.2399 - acc: 0.9321 - val_loss: 0.0523 - val_acc: 0.9840\n",
      "Epoch 19/100\n",
      " - 32s - loss: 0.2316 - acc: 0.9347 - val_loss: 0.0484 - val_acc: 0.9853\n",
      "Epoch 20/100\n",
      " - 32s - loss: 0.2279 - acc: 0.9342 - val_loss: 0.0479 - val_acc: 0.9858\n",
      "Epoch 21/100\n",
      " - 33s - loss: 0.2280 - acc: 0.9359 - val_loss: 0.0469 - val_acc: 0.9853\n",
      "Epoch 22/100\n",
      " - 32s - loss: 0.2275 - acc: 0.9368 - val_loss: 0.0467 - val_acc: 0.9854\n",
      "Epoch 23/100\n",
      " - 33s - loss: 0.2153 - acc: 0.9389 - val_loss: 0.0442 - val_acc: 0.9872\n",
      "Epoch 24/100\n",
      " - 32s - loss: 0.2190 - acc: 0.9386 - val_loss: 0.0457 - val_acc: 0.9863\n",
      "Epoch 25/100\n",
      " - 33s - loss: 0.2235 - acc: 0.9386 - val_loss: 0.0500 - val_acc: 0.9853\n",
      "Epoch 26/100\n",
      " - 33s - loss: 0.2217 - acc: 0.9389 - val_loss: 0.0431 - val_acc: 0.9872\n",
      "\n",
      "Epoch 00026: ReduceLROnPlateau reducing learning rate to 0.0005000000237487257.\n",
      "Epoch 27/100\n",
      " - 33s - loss: 0.2022 - acc: 0.9433 - val_loss: 0.0432 - val_acc: 0.9875\n",
      "Epoch 28/100\n",
      " - 33s - loss: 0.2063 - acc: 0.9417 - val_loss: 0.0413 - val_acc: 0.9880\n",
      "Epoch 29/100\n",
      " - 33s - loss: 0.1955 - acc: 0.9450 - val_loss: 0.0430 - val_acc: 0.9875\n",
      "Epoch 30/100\n",
      " - 33s - loss: 0.1992 - acc: 0.9445 - val_loss: 0.0410 - val_acc: 0.9882\n",
      "Epoch 31/100\n",
      " - 33s - loss: 0.1979 - acc: 0.9441 - val_loss: 0.0393 - val_acc: 0.9880\n",
      "Epoch 32/100\n",
      " - 33s - loss: 0.1970 - acc: 0.9456 - val_loss: 0.0410 - val_acc: 0.9884\n",
      "Epoch 33/100\n",
      " - 33s - loss: 0.1987 - acc: 0.9449 - val_loss: 0.0398 - val_acc: 0.9885\n",
      "Epoch 34/100\n",
      " - 33s - loss: 0.1838 - acc: 0.9474 - val_loss: 0.0395 - val_acc: 0.9876\n",
      "Epoch 35/100\n",
      " - 33s - loss: 0.1992 - acc: 0.9465 - val_loss: 0.0395 - val_acc: 0.9879\n",
      "Epoch 36/100\n",
      " - 33s - loss: 0.1973 - acc: 0.9452 - val_loss: 0.0396 - val_acc: 0.9878\n",
      "\n",
      "Epoch 00036: ReduceLROnPlateau reducing learning rate to 0.0002500000118743628.\n",
      "Epoch 37/100\n",
      " - 33s - loss: 0.1860 - acc: 0.9489 - val_loss: 0.0380 - val_acc: 0.9883\n",
      "Epoch 38/100\n",
      " - 34s - loss: 0.1854 - acc: 0.9484 - val_loss: 0.0376 - val_acc: 0.9887\n",
      "Epoch 39/100\n",
      " - 33s - loss: 0.1858 - acc: 0.9496 - val_loss: 0.0374 - val_acc: 0.9887\n",
      "Epoch 40/100\n",
      " - 33s - loss: 0.1856 - acc: 0.9493 - val_loss: 0.0378 - val_acc: 0.9888\n",
      "Epoch 41/100\n",
      " - 33s - loss: 0.1855 - acc: 0.9493 - val_loss: 0.0377 - val_acc: 0.9887\n",
      "Epoch 42/100\n",
      " - 33s - loss: 0.1815 - acc: 0.9495 - val_loss: 0.0372 - val_acc: 0.9887\n",
      "Epoch 43/100\n",
      " - 33s - loss: 0.1917 - acc: 0.9469 - val_loss: 0.0366 - val_acc: 0.9886\n",
      "\n",
      "Epoch 00043: ReduceLROnPlateau reducing learning rate to 0.0001250000059371814.\n",
      "Epoch 44/100\n",
      " - 33s - loss: 0.1855 - acc: 0.9490 - val_loss: 0.0366 - val_acc: 0.9887\n",
      "Epoch 45/100\n",
      " - 33s - loss: 0.1825 - acc: 0.9496 - val_loss: 0.0369 - val_acc: 0.9886\n",
      "Epoch 46/100\n",
      " - 33s - loss: 0.1798 - acc: 0.9520 - val_loss: 0.0362 - val_acc: 0.9889\n",
      "Epoch 47/100\n",
      " - 33s - loss: 0.1764 - acc: 0.9527 - val_loss: 0.0363 - val_acc: 0.9888\n",
      "Epoch 48/100\n",
      " - 33s - loss: 0.1730 - acc: 0.9518 - val_loss: 0.0376 - val_acc: 0.9887\n",
      "Epoch 49/100\n",
      " - 33s - loss: 0.1772 - acc: 0.9510 - val_loss: 0.0369 - val_acc: 0.9888\n",
      "\n",
      "Epoch 00049: ReduceLROnPlateau reducing learning rate to 6.25000029685907e-05.\n",
      "Epoch 50/100\n",
      " - 33s - loss: 0.1812 - acc: 0.9498 - val_loss: 0.0367 - val_acc: 0.9891\n",
      "Epoch 51/100\n",
      " - 33s - loss: 0.1805 - acc: 0.9501 - val_loss: 0.0364 - val_acc: 0.9891\n",
      "Epoch 52/100\n",
      " - 33s - loss: 0.1793 - acc: 0.9517 - val_loss: 0.0362 - val_acc: 0.9891\n",
      "Epoch 53/100\n",
      " - 33s - loss: 0.1774 - acc: 0.9517 - val_loss: 0.0363 - val_acc: 0.9889\n",
      "\n",
      "Epoch 00053: ReduceLROnPlateau reducing learning rate to 3.125000148429535e-05.\n",
      "Epoch 54/100\n",
      " - 33s - loss: 0.1814 - acc: 0.9512 - val_loss: 0.0363 - val_acc: 0.9889\n",
      "Epoch 55/100\n",
      " - 33s - loss: 0.1774 - acc: 0.9510 - val_loss: 0.0359 - val_acc: 0.9890\n",
      "Epoch 56/100\n",
      " - 33s - loss: 0.1770 - acc: 0.9517 - val_loss: 0.0363 - val_acc: 0.9889\n",
      "\n",
      "Epoch 00056: ReduceLROnPlateau reducing learning rate to 1.5625000742147677e-05.\n",
      "Epoch 57/100\n",
      " - 33s - loss: 0.1773 - acc: 0.9529 - val_loss: 0.0362 - val_acc: 0.9887\n",
      "Epoch 58/100\n",
      " - 34s - loss: 0.1809 - acc: 0.9492 - val_loss: 0.0361 - val_acc: 0.9889\n",
      "Epoch 59/100\n",
      " - 33s - loss: 0.1737 - acc: 0.9522 - val_loss: 0.0361 - val_acc: 0.9889\n",
      "\n",
      "Epoch 00059: ReduceLROnPlateau reducing learning rate to 1e-05.\n",
      "Epoch 60/100\n",
      " - 33s - loss: 0.1792 - acc: 0.9517 - val_loss: 0.0362 - val_acc: 0.9889\n",
      "Epoch 61/100\n",
      " - 33s - loss: 0.1781 - acc: 0.9513 - val_loss: 0.0362 - val_acc: 0.9888\n",
      "Epoch 62/100\n",
      " - 33s - loss: 0.1804 - acc: 0.9520 - val_loss: 0.0362 - val_acc: 0.9888\n",
      "Epoch 63/100\n",
      " - 33s - loss: 0.1815 - acc: 0.9505 - val_loss: 0.0362 - val_acc: 0.9888\n",
      "Epoch 64/100\n",
      " - 33s - loss: 0.1775 - acc: 0.9518 - val_loss: 0.0361 - val_acc: 0.9889\n",
      "Epoch 65/100\n",
      " - 33s - loss: 0.1801 - acc: 0.9505 - val_loss: 0.0361 - val_acc: 0.9889\n",
      "Epoch 66/100\n",
      " - 33s - loss: 0.1779 - acc: 0.9524 - val_loss: 0.0360 - val_acc: 0.9889\n",
      "Epoch 67/100\n",
      " - 33s - loss: 0.1780 - acc: 0.9515 - val_loss: 0.0360 - val_acc: 0.9889\n",
      "Epoch 68/100\n",
      " - 33s - loss: 0.1790 - acc: 0.9520 - val_loss: 0.0360 - val_acc: 0.9891\n",
      "Epoch 69/100\n",
      " - 33s - loss: 0.1775 - acc: 0.9508 - val_loss: 0.0360 - val_acc: 0.9889\n",
      "Epoch 70/100\n",
      " - 33s - loss: 0.1744 - acc: 0.9518 - val_loss: 0.0361 - val_acc: 0.9889\n",
      "Epoch 71/100\n",
      " - 33s - loss: 0.1829 - acc: 0.9520 - val_loss: 0.0362 - val_acc: 0.9891\n",
      "Epoch 72/100\n",
      " - 33s - loss: 0.1716 - acc: 0.9521 - val_loss: 0.0363 - val_acc: 0.9891\n",
      "Epoch 73/100\n",
      " - 33s - loss: 0.1779 - acc: 0.9511 - val_loss: 0.0362 - val_acc: 0.9890\n",
      "Epoch 74/100\n",
      " - 33s - loss: 0.1767 - acc: 0.9523 - val_loss: 0.0361 - val_acc: 0.9890\n",
      "Epoch 75/100\n",
      " - 33s - loss: 0.1741 - acc: 0.9506 - val_loss: 0.0361 - val_acc: 0.9889\n",
      "Epoch 76/100\n",
      " - 33s - loss: 0.1719 - acc: 0.9537 - val_loss: 0.0361 - val_acc: 0.9889\n",
      "Epoch 77/100\n",
      " - 33s - loss: 0.1804 - acc: 0.9506 - val_loss: 0.0362 - val_acc: 0.9889\n",
      "Epoch 78/100\n",
      " - 33s - loss: 0.1822 - acc: 0.9515 - val_loss: 0.0361 - val_acc: 0.9889\n",
      "Epoch 79/100\n",
      " - 33s - loss: 0.1822 - acc: 0.9510 - val_loss: 0.0361 - val_acc: 0.9890\n",
      "Epoch 80/100\n",
      " - 33s - loss: 0.1771 - acc: 0.9519 - val_loss: 0.0362 - val_acc: 0.9889\n",
      "Epoch 81/100\n",
      " - 33s - loss: 0.1737 - acc: 0.9522 - val_loss: 0.0361 - val_acc: 0.9890\n",
      "Epoch 82/100\n",
      " - 33s - loss: 0.1785 - acc: 0.9509 - val_loss: 0.0361 - val_acc: 0.9889\n",
      "Epoch 83/100\n",
      " - 33s - loss: 0.1758 - acc: 0.9537 - val_loss: 0.0362 - val_acc: 0.9889\n",
      "Epoch 84/100\n",
      " - 33s - loss: 0.1727 - acc: 0.9520 - val_loss: 0.0360 - val_acc: 0.9890\n",
      "Epoch 85/100\n",
      " - 33s - loss: 0.1746 - acc: 0.9507 - val_loss: 0.0361 - val_acc: 0.9889\n",
      "Epoch 86/100\n",
      " - 33s - loss: 0.1777 - acc: 0.9522 - val_loss: 0.0361 - val_acc: 0.9889\n",
      "Epoch 87/100\n",
      " - 33s - loss: 0.1783 - acc: 0.9527 - val_loss: 0.0361 - val_acc: 0.9891\n",
      "Epoch 88/100\n",
      " - 33s - loss: 0.1872 - acc: 0.9497 - val_loss: 0.0361 - val_acc: 0.9890\n",
      "Epoch 89/100\n",
      " - 33s - loss: 0.1761 - acc: 0.9531 - val_loss: 0.0361 - val_acc: 0.9887\n"
     ]
    },
    {
     "name": "stdout",
     "output_type": "stream",
     "text": [
      "Epoch 90/100\n",
      " - 33s - loss: 0.1797 - acc: 0.9511 - val_loss: 0.0360 - val_acc: 0.9888\n",
      "Epoch 91/100\n",
      " - 33s - loss: 0.1755 - acc: 0.9509 - val_loss: 0.0360 - val_acc: 0.9889\n",
      "Epoch 92/100\n",
      " - 33s - loss: 0.1806 - acc: 0.9512 - val_loss: 0.0360 - val_acc: 0.9889\n",
      "Epoch 93/100\n",
      " - 33s - loss: 0.1722 - acc: 0.9528 - val_loss: 0.0361 - val_acc: 0.9889\n",
      "Epoch 94/100\n",
      " - 33s - loss: 0.1809 - acc: 0.9509 - val_loss: 0.0359 - val_acc: 0.9890\n",
      "Epoch 95/100\n",
      " - 33s - loss: 0.1769 - acc: 0.9521 - val_loss: 0.0358 - val_acc: 0.9890\n",
      "Epoch 96/100\n",
      " - 33s - loss: 0.1833 - acc: 0.9500 - val_loss: 0.0358 - val_acc: 0.9889\n",
      "Epoch 97/100\n",
      " - 34s - loss: 0.1836 - acc: 0.9505 - val_loss: 0.0360 - val_acc: 0.9888\n",
      "Epoch 98/100\n",
      " - 34s - loss: 0.1735 - acc: 0.9531 - val_loss: 0.0359 - val_acc: 0.9890\n",
      "Epoch 99/100\n",
      " - 33s - loss: 0.1720 - acc: 0.9526 - val_loss: 0.0360 - val_acc: 0.9889\n",
      "Epoch 100/100\n",
      " - 33s - loss: 0.1860 - acc: 0.9499 - val_loss: 0.0360 - val_acc: 0.9888\n"
     ]
    }
   ],
   "source": [
    "history=model.fit_generator(datagen.flow(X_train, Y_train, batch_size=86), epochs=100, validation_data=(X_valid,Y_valid),verbose = 2, steps_per_epoch=X_train.shape[0] // 86,callbacks=[learning_rate_reduction])"
   ]
  },
  {
   "cell_type": "code",
   "execution_count": 405,
   "metadata": {},
   "outputs": [
    {
     "name": "stdout",
     "output_type": "stream",
     "text": [
      "15000/15000 [==============================] - 6s 377us/step\n"
     ]
    },
    {
     "data": {
      "text/plain": [
       "[0.029343545228057096, 0.9920666666666667]"
      ]
     },
     "execution_count": 405,
     "metadata": {},
     "output_type": "execute_result"
    }
   ],
   "source": [
    "results=model.evaluate(X_valid,Y_valid)\n",
    "results"
   ]
  },
  {
   "cell_type": "code",
   "execution_count": 406,
   "metadata": {},
   "outputs": [
    {
     "data": {
      "image/png": "[encoded data removed]",
      "text/plain": [
       "<Figure size 432x288 with 1 Axes>"
      ]
     },
     "metadata": {},
     "output_type": "display_data"
    }
   ],
   "source": [
    "nb_epochs=100\n",
    "training_loss = history.history['loss']\n",
    "validation_loss = history.history['val_loss']\n",
    "\n",
    "epochs = range(1,nb_epochs+1)\n",
    "plt.plot(epochs,training_loss, 'ko', label = 'Training loss')\n",
    "plt.plot(epochs,validation_loss, 'k', label = 'Validation loss')\n",
    "plt.ylabel('Loss')\n",
    "plt.xlabel('Epochs')\n",
    "plt.title(\"Training and validation losses\")\n",
    "plt.legend()\n",
    "plt.show()"
   ]
  },
  {
   "cell_type": "code",
   "execution_count": 407,
   "metadata": {
    "scrolled": true
   },
   "outputs": [
    {
     "data": {
      "image/png": "[encoded data removed]",
      "text/plain": [
       "<Figure size 432x288 with 1 Axes>"
      ]
     },
     "metadata": {},
     "output_type": "display_data"
    }
   ],
   "source": [
    "training_accuracy = history.history['acc']\n",
    "validation_accuracy = history.history['val_acc']\n",
    "\n",
    "epochs = range(1,nb_epochs+1)\n",
    "plt.plot(epochs,training_accuracy, 'ko', label = 'Training accuracy')\n",
    "plt.plot(epochs,validation_accuracy, 'k', label = 'Validation accuracy')\n",
    "plt.ylabel('Loss')\n",
    "plt.xlabel('Epochs')\n",
    "plt.title(\"Training and validation accuracy\")\n",
    "plt.legend()\n",
    "plt.show()"
   ]
  },
  {
   "cell_type": "code",
   "execution_count": null,
   "metadata": {},
   "outputs": [],
   "source": []
  },
  {
   "cell_type": "code",
   "execution_count": 408,
   "metadata": {},
   "outputs": [],
   "source": [
    "pred_val_cnn1=model.predict_classes(X_valid)\n",
    "pred_val_cnn1\n",
    "\n",
    "\n",
    "def plot_confusion_matrix(y_true, y_pred):\n",
    "    mtx = confusion_matrix(y_true, y_pred)\n",
    "    fig, ax = plt.subplots(figsize=(8,8))\n",
    "    sns.heatmap(mtx, annot=True, fmt='d', linewidths=.5,  cbar=False, ax=ax)\n",
    "    #  square=True,\n",
    "    plt.ylabel('true label')\n",
    "    plt.xlabel('predicted label')\n",
    "\n"
   ]
  },
  {
   "cell_type": "code",
   "execution_count": 409,
   "metadata": {},
   "outputs": [
    {
     "data": {
      "image/png": "[encoded data removed]",
      "text/plain": [
       "<Figure size 576x576 with 1 Axes>"
      ]
     },
     "metadata": {},
     "output_type": "display_data"
    }
   ],
   "source": [
    "y_val_=train_labels[27000:]\n",
    "plot_confusion_matrix(y_val_, pred_val_cnn1)"
   ]
  },
  {
   "cell_type": "code",
   "execution_count": 410,
   "metadata": {},
   "outputs": [
    {
     "name": "stdout",
     "output_type": "stream",
     "text": [
      "             precision    recall  f1-score   support\n",
      "\n",
      "          0       0.99      1.00      1.00      1507\n",
      "          1       0.99      1.00      1.00      1679\n",
      "          2       0.99      1.00      0.99      1455\n",
      "          3       1.00      0.99      0.99      1544\n",
      "          4       0.99      0.99      0.99      1410\n",
      "          5       1.00      0.99      0.99      1359\n",
      "          6       0.99      1.00      0.99      1457\n",
      "          7       0.99      1.00      0.99      1590\n",
      "          8       0.99      0.99      0.99      1474\n",
      "          9       0.99      0.98      0.98      1525\n",
      "\n",
      "avg / total       0.99      0.99      0.99     15000\n",
      "\n"
     ]
    }
   ],
   "source": [
    "print(classification_report(y_val_, pred_val_cnn1))"
   ]
  },
  {
   "cell_type": "code",
   "execution_count": 411,
   "metadata": {},
   "outputs": [
    {
     "data": {
      "text/plain": [
       "array([2, 0, 9, ..., 3, 9, 2], dtype=int64)"
      ]
     },
     "execution_count": 411,
     "metadata": {},
     "output_type": "execute_result"
    }
   ],
   "source": [
    "pred_val_cnn=model.predict_classes(X_data_test)\n",
    "pred_val_cnn"
   ]
  },
  {
   "cell_type": "code",
   "execution_count": 412,
   "metadata": {},
   "outputs": [],
   "source": [
    "result_svm = pd.DataFrame({'ImageId':sample_submission.ImageId, 'Label':pred_val_cnn})"
   ]
  },
  {
   "cell_type": "code",
   "execution_count": 413,
   "metadata": {},
   "outputs": [],
   "source": [
    "result_svm.to_csv(\"submM2ISE.csv\",index=False)"
   ]
  },
  {
   "cell_type": "code",
   "execution_count": null,
   "metadata": {},
   "outputs": [],
   "source": []
  }
 ],
 "metadata": {
  "kernelspec": {
   "display_name": "Python 3",
   "language": "python",
   "name": "python3"
  },
  "language_info": {
   "codemirror_mode": {
    "name": "ipython",
    "version": 3
   },
   "file_extension": ".py",
   "mimetype": "text/x-python",
   "name": "python",
   "nbconvert_exporter": "python",
   "pygments_lexer": "ipython3",
   "version": "3.7.3"
  }
 },
 "nbformat": 4,
 "nbformat_minor": 2
}
